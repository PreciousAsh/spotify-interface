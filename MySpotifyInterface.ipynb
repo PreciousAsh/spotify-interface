{
 "cells": [
  {
   "cell_type": "code",
   "execution_count": 1,
   "id": "dcd3efee",
   "metadata": {},
   "outputs": [],
   "source": [
    "import spotipy\n",
    "import json\n",
    "import webbrowser\n",
    "import urllib.request\n",
    "import spotipy.util as util"
   ]
  },
  {
   "cell_type": "code",
   "execution_count": 25,
   "id": "aaa685f8",
   "metadata": {},
   "outputs": [],
   "source": [
    "# copy and paste the url into your browser to see what data you are getting back\n",
    "request = urllib.request.Request(\"https://weatherdbi.herokuapp.com/data/weather/lagos\")\n",
    "response = urllib.request.urlopen(request)"
   ]
  },
  {
   "cell_type": "code",
   "execution_count": 26,
   "id": "56e7da63",
   "metadata": {},
   "outputs": [
    {
     "data": {
      "text/plain": [
       "http.client.HTTPResponse"
      ]
     },
     "execution_count": 26,
     "metadata": {},
     "output_type": "execute_result"
    }
   ],
   "source": [
    "type(response)"
   ]
  },
  {
   "cell_type": "code",
   "execution_count": 27,
   "id": "a86b114b",
   "metadata": {},
   "outputs": [],
   "source": [
    "# convert this HTTPResponse object into a python dictionary\n",
    "weather = json.loads(response.read())"
   ]
  },
  {
   "cell_type": "code",
   "execution_count": 28,
   "id": "d0520012",
   "metadata": {},
   "outputs": [
    {
     "data": {
      "text/plain": [
       "'Mostly cloudy'"
      ]
     },
     "execution_count": 28,
     "metadata": {},
     "output_type": "execute_result"
    }
   ],
   "source": [
    "forecast = weather['currentConditions']['comment']\n",
    "forecast"
   ]
  },
  {
   "cell_type": "code",
   "execution_count": 7,
   "id": "c4723ac4",
   "metadata": {},
   "outputs": [],
   "source": [
    "# open file with keys and set the path to your credentials JSON file\n",
    "credentials = \"spotify_keys.json\"\n",
    "with open(credentials, \"r\") as keys:\n",
    "    api_tokens = json.load(keys)"
   ]
  },
  {
   "cell_type": "code",
   "execution_count": 8,
   "id": "304fd48f",
   "metadata": {},
   "outputs": [],
   "source": [
    "# read the keys and assign each to a variable\n",
    "# A redirect URI, or reply URL, is the location where the authorization server sends the user once the app has been \n",
    "# successfully authorized and granted an authorization code or access token.\n",
    "client_id = api_tokens[\"client_id\"]\n",
    "client_secret = api_tokens[\"client_secret\"]\n",
    "redirectURI = api_tokens[\"redirect\"]\n",
    "username = api_tokens[\"username\"]"
   ]
  },
  {
   "cell_type": "code",
   "execution_count": 9,
   "id": "95b897ff",
   "metadata": {},
   "outputs": [
    {
     "name": "stdout",
     "output_type": "stream",
     "text": [
      "Enter the URL you were redirected to: https://www.google.com/?code=AQB1N8Ggjp2UcZnlsbxRFMN7sf1i8XhXJTCEITtFKVDaba_L0HyvTJMuZyHo1tLfAecibfdXbK_I9FYAnIsTQ6mUEyuEraN2bLPLuYU4sghtSSJOp_a_rvxKeLAJjDuTlMNfmy1uBIcMzAblsCQssrd1IayE4tag2zNmZtUQJ3GafjgNsPyfXgkJH_SGRP6HGtw5kb9IKlDZwk5sFAIly0viXWY3cxsxPyO2-Ap6VNnRBB7Bovb6kXfGmlV9IgTI0NXGzvE5ocdba0TCUBlkRb85aF1nGD8\n"
     ]
    }
   ],
   "source": [
    "# scope = special powers\n",
    "scope = 'user-read-private user-read-playback-state user-modify-playback-state playlist-modify-public'\n",
    "token = util.prompt_for_user_token(username, scope, client_id=client_id,\n",
    "                           client_secret=client_secret,\n",
    "                           redirect_uri=redirectURI)"
   ]
  },
  {
   "cell_type": "code",
   "execution_count": 10,
   "id": "bf787875",
   "metadata": {},
   "outputs": [
    {
     "name": "stdout",
     "output_type": "stream",
     "text": [
      "BQCb2Vz4Dw6zCjyJVWeqvEAXkSuPgfrz37qzhdfnHT1HN5BI6MWSyw8OVt_LhwbwHzMfVH9utJyFr27hNjjg4JAyFLrOokQ9QLgFVoAxljGLnbjcRDtQzSOmkO-yKl-yrIEdDxdlEHyuS4aRylyKWHsd7kXwN5Ih-fzomb36s5Q8GAq5p0foChmwZYtACV41On3OACbdxm2EE3X3txbaE8oVSPmwQhkH1A\n"
     ]
    }
   ],
   "source": [
    "print(token)"
   ]
  },
  {
   "cell_type": "code",
   "execution_count": 11,
   "id": "ed9e28b9",
   "metadata": {},
   "outputs": [],
   "source": [
    "# Create Spotify Object - this is how we interact with our API\n",
    "sp = spotipy.Spotify(auth=token)"
   ]
  },
  {
   "cell_type": "code",
   "execution_count": 29,
   "id": "41ec917a",
   "metadata": {},
   "outputs": [],
   "source": [
    "# learn about more query strings for spotify here: https://developer.spotify.com/documentation/web-api/reference/#/operations/search\n",
    "track_results = sp.search(q=forecast, type='track', limit=50)"
   ]
  },
  {
   "cell_type": "code",
   "execution_count": 30,
   "id": "f92b29d4",
   "metadata": {},
   "outputs": [],
   "source": [
    "tracks = track_results['tracks']['items']"
   ]
  },
  {
   "cell_type": "code",
   "execution_count": 19,
   "id": "3dc80666",
   "metadata": {},
   "outputs": [
    {
     "data": {
      "text/plain": [
       "list"
      ]
     },
     "execution_count": 19,
     "metadata": {},
     "output_type": "execute_result"
    }
   ],
   "source": [
    "type(tracks)"
   ]
  },
  {
   "cell_type": "code",
   "execution_count": 31,
   "id": "8c784ebb",
   "metadata": {},
   "outputs": [],
   "source": [
    "# URI = uniform resource identifier\n",
    "track_selection_list = []\n",
    "\n",
    "for song in tracks:\n",
    "    track_selection_list.append(song['uri'])"
   ]
  },
  {
   "cell_type": "code",
   "execution_count": 21,
   "id": "a2fc9bfd",
   "metadata": {},
   "outputs": [
    {
     "name": "stdout",
     "output_type": "stream",
     "text": [
      "['spotify:track:1IqsMd1yTEb4Ywn7o7D4ia', 'spotify:track:3eDLVjBYpqHBLoGgY5IOkx', 'spotify:track:1Xu5MOsuZG7Ymrr5lwL5cP', 'spotify:track:10wtci5sK17Fl4XCbTSBNU', 'spotify:track:0jsys83vYhAa70hz87VWgM', 'spotify:track:4TnFsiynA7DcJj63T5m5fW', 'spotify:track:23UBjNhv9UPM0Ofv75dsKX', 'spotify:track:3sWKvEoYlEqeVsNZXn3Ds4', 'spotify:track:2KkCwj5HdNjUztfygy9Hcd', 'spotify:track:1bbAC7ZNqLX23e8k4rKkvR', 'spotify:track:5sAWICxBCKDgjp3UQlh6JU', 'spotify:track:2VOl8RGHFgLuKrLk3Mpcmb', 'spotify:track:2aHQ3LFmJMY0zr5UznRP77', 'spotify:track:4q8B7iRQqxpZH1AShsTFLS', 'spotify:track:5vWNxQ4K2NU5tIyEGI8qy1', 'spotify:track:2HddaKNHi39hHhjUOYV4pK', 'spotify:track:4ZjpM5V5LgH4pON2kSbswt', 'spotify:track:7HcUbhFOFUYrw0Y8Cn4wpp', 'spotify:track:2qS81sjwHn8tx905QhR8FY', 'spotify:track:4cXb1m12ETJ1TpuQahJmjW', 'spotify:track:5UsRNH8SiZhWCuzigS1ZTq', 'spotify:track:5oL1UQnHrRx5VMklZuHjk9', 'spotify:track:4HPckcgSQmxwMcAFOsJmGY', 'spotify:track:5jkB9NKroLBBVyyukqpDBq', 'spotify:track:51sciSNx3f1TEXcAmL06j9', 'spotify:track:3dn1Wlz9SNqiu1LYa86VeJ', 'spotify:track:3R6abyqknjbGRmFrZDQJe0', 'spotify:track:1J9iRjr6N6p7zb01342dye', 'spotify:track:61uLswN0I1v3tXZchA3Q5B', 'spotify:track:0HNYT3r8DmuQlp37Bs9RbI', 'spotify:track:2lu19gVDMaugwKkLUkKTDx', 'spotify:track:60dqFNs24vy6v1T6yxIjCt', 'spotify:track:2fIhX68Y1P0xLfnJh160tk', 'spotify:track:3U752846ZQ49bUEg5B5pIo', 'spotify:track:3pnNr9iQ93YtDX2O26fLo1', 'spotify:track:1P54ZDqDveG5ds2DwUTM6m', 'spotify:track:3oEctf1BGSov9IK430B8iW', 'spotify:track:4fxu0V4kJeGMPhDvhchMOa', 'spotify:track:0hhqRC9VYSciKf2FJYSPza', 'spotify:track:77banKmRUHy7qNM4kGgKAL', 'spotify:track:2Smp4Vw7QG7Xg9OowxKwUW', 'spotify:track:0OJSG8vuMqM5je36c6Jhqk', 'spotify:track:27Xahjlt7f9Ni7PfR1xP3U', 'spotify:track:0agI5Np4MhhDYOEO6cRbTM', 'spotify:track:3rRIQvoad0fmd3CjZRO7po', 'spotify:track:0rS004YFVukXRW7b6Cxv0o', 'spotify:track:2M6x8splHiYZ0QOfU23RMn', 'spotify:track:0r6JiltsnH5p5rOdrpc0R8', 'spotify:track:5ivcb1hobXwJXuOBmkTWhY', 'spotify:track:3nQnPyMciwXfhzhx3pDArb']\n"
     ]
    }
   ],
   "source": [
    "print(track_selection_list)"
   ]
  },
  {
   "cell_type": "code",
   "execution_count": 32,
   "id": "976541dd",
   "metadata": {},
   "outputs": [
    {
     "name": "stdout",
     "output_type": "stream",
     "text": [
      "{'collaborative': False, 'description': 'Songs for the weather', 'external_urls': {'spotify': 'https://open.spotify.com/playlist/0YXqUwL4mI0z3oiurl2AcL'}, 'followers': {'href': None, 'total': 0}, 'href': 'https://api.spotify.com/v1/playlists/0YXqUwL4mI0z3oiurl2AcL', 'id': '0YXqUwL4mI0z3oiurl2AcL', 'images': [], 'name': 'Mostly cloudy', 'owner': {'display_name': 'katsully1', 'external_urls': {'spotify': 'https://open.spotify.com/user/katsully1'}, 'href': 'https://api.spotify.com/v1/users/katsully1', 'id': 'katsully1', 'type': 'user', 'uri': 'spotify:user:katsully1'}, 'primary_color': None, 'public': True, 'snapshot_id': 'MSw3Nzk5NDk1N2JiZTFlODY3YjljZWU3ZTc2NjVhZTc1MjA5ZWU1M2Iz', 'tracks': {'href': 'https://api.spotify.com/v1/playlists/0YXqUwL4mI0z3oiurl2AcL/tracks', 'items': [], 'limit': 100, 'next': None, 'offset': 0, 'previous': None, 'total': 0}, 'type': 'playlist', 'uri': 'spotify:playlist:0YXqUwL4mI0z3oiurl2AcL'}\n"
     ]
    }
   ],
   "source": [
    "my_playlist = sp.user_playlist_create(user=username, name=forecast, public=True,\n",
    "                                      description=\"Songs for the weather\")\n",
    "print(my_playlist)"
   ]
  },
  {
   "cell_type": "code",
   "execution_count": 33,
   "id": "6624a7a5",
   "metadata": {},
   "outputs": [],
   "source": [
    "results = sp.user_playlist_add_tracks(username, my_playlist['id'], track_selection_list)"
   ]
  },
  {
   "cell_type": "code",
   "execution_count": 34,
   "id": "a72ae299",
   "metadata": {},
   "outputs": [
    {
     "data": {
      "text/plain": [
       "True"
      ]
     },
     "execution_count": 34,
     "metadata": {},
     "output_type": "execute_result"
    }
   ],
   "source": [
    "webbrowser.open(my_playlist['external_urls']['spotify'])"
   ]
  },
  {
   "cell_type": "code",
   "execution_count": null,
   "id": "f9b5c0c2",
   "metadata": {},
   "outputs": [],
   "source": []
  }
 ],
 "metadata": {
  "kernelspec": {
   "display_name": "Python 3 (ipykernel)",
   "language": "python",
   "name": "python3"
  },
  "language_info": {
   "codemirror_mode": {
    "name": "ipython",
    "version": 3
   },
   "file_extension": ".py",
   "mimetype": "text/x-python",
   "name": "python",
   "nbconvert_exporter": "python",
   "pygments_lexer": "ipython3",
   "version": "3.11.0"
  }
 },
 "nbformat": 4,
 "nbformat_minor": 5
}

print(hello) 