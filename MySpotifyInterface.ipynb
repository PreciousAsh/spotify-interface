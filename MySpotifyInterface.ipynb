{
 "cells": [
  {
   "cell_type": "code",
   "execution_count": 1,
   "id": "2545908b",
   "metadata": {},
   "outputs": [],
   "source": [
    "import spotipy\n",
    "import json\n",
    "import webbrowser\n",
    "import urllib.request\n",
    "import spotipy.util as util"
   ]
  },
  {
   "cell_type": "code",
   "execution_count": 2,
   "id": "c4677c2e",
   "metadata": {},
   "outputs": [],
   "source": [
    "# copy and paste the url into your browser to see what data you are getting back\n",
    "request = urllib.request.Request(\"https://weatherdbi.herokuapp.com/data/weather/london\")\n",
    "response = urllib.request.urlopen(request)"
   ]
  },
  {
   "cell_type": "code",
   "execution_count": 3,
   "id": "d4f70166",
   "metadata": {},
   "outputs": [
    {
     "data": {
      "text/plain": [
       "http.client.HTTPResponse"
      ]
     },
     "execution_count": 3,
     "metadata": {},
     "output_type": "execute_result"
    }
   ],
   "source": [
    "type(response)"
   ]
  },
  {
   "cell_type": "code",
   "execution_count": 4,
   "id": "c076f21e",
   "metadata": {},
   "outputs": [],
   "source": [
    "# convert this HTTPResponse object into a python dictionary\n",
    "weather = json.loads(response.read())"
   ]
  },
  {
   "cell_type": "code",
   "execution_count": 6,
   "id": "ad09a496",
   "metadata": {},
   "outputs": [
    {
     "data": {
      "text/plain": [
       "'Partly cloudy'"
      ]
     },
     "execution_count": 6,
     "metadata": {},
     "output_type": "execute_result"
    }
   ],
   "source": [
    "forecast = weather['currentConditions']['comment']\n",
    "forecast"
   ]
  },
  {
   "cell_type": "code",
   "execution_count": 7,
   "id": "3f8e8c03",
   "metadata": {},
   "outputs": [],
   "source": [
    "# open file with keys and set the path to your credentials JSON file\n",
    "credentials = \"spotify_keys.json\"\n",
    "with open(credentials, \"r\") as keys:\n",
    "    api_tokens = json.load(keys)"
   ]
  },
  {
   "cell_type": "code",
   "execution_count": 8,
   "id": "7f9ac0c1",
   "metadata": {},
   "outputs": [],
   "source": [
    "# read the keys and assign each to a variable\n",
    "# A redirect URI, or reply URL, is the location where the authorization server sends the user once the app has been \n",
    "# successfully authorized and granted an authorization code or access token.\n",
    "client_id = api_tokens[\"client_id\"]\n",
    "client_secret = api_tokens[\"client_secret\"]\n",
    "redirectURI = api_tokens[\"redirect\"]\n",
    "username = api_tokens[\"username\"]"
   ]
  },
  {
   "cell_type": "code",
   "execution_count": null,
   "id": "49a4444f",
   "metadata": {},
   "outputs": [],
   "source": []
  }
 ],
 "metadata": {
  "kernelspec": {
   "display_name": "Python 3 (ipykernel)",
   "language": "python",
   "name": "python3"
  },
  "language_info": {
   "codemirror_mode": {
    "name": "ipython",
    "version": 3
   },
   "file_extension": ".py",
   "mimetype": "text/x-python",
   "name": "python",
   "nbconvert_exporter": "python",
   "pygments_lexer": "ipython3",
   "version": "3.11.0"
  }
 },
 "nbformat": 4,
 "nbformat_minor": 5
}
